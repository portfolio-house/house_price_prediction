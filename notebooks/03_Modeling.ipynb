{
 "cells": [
  {
   "cell_type": "code",
   "execution_count": 50,
   "id": "72f6e24b",
   "metadata": {},
   "outputs": [],
   "source": [
    "import sys\n",
    "import os\n",
    "project_root = os.path.abspath(os.path.join(os.getcwd(), '..'))\n",
    "if project_root not in sys.path:\n",
    "    sys.path.append(project_root)"
   ]
  },
  {
   "cell_type": "code",
   "execution_count": 51,
   "id": "203ae147",
   "metadata": {},
   "outputs": [],
   "source": [
    "import pandas as pd\n",
    "import numpy as np\n",
    "import matplotlib.pyplot as plt\n",
    "from src.models.train_model import train_and_save_model\n",
    "from src.models.predict_model import evaluate_model\n",
    "from src.visualization.visualize import plot_predictions, plot_residuals\n",
    "\n",
    "PROCESSED_CSV = '../data/processed/cleaned_20250731_1335.csv'"
   ]
  },
  {
   "cell_type": "code",
   "execution_count": 52,
   "id": "6807ff56",
   "metadata": {},
   "outputs": [],
   "source": [
    "df = pd.read_csv(PROCESSED_CSV)\n",
    "X = df.drop('SalePrice', axis=1)\n",
    "y = df['SalePrice']"
   ]
  },
  {
   "cell_type": "code",
   "execution_count": 53,
   "id": "cf5a29f7",
   "metadata": {},
   "outputs": [
    {
     "name": "stdout",
     "output_type": "stream",
     "text": [
      "16:32:04 - src.models.train_model - INFO - Training RMSE: 31900.31\n",
      "16:32:04 - src.models.train_model - INFO - Training R²: 0.8181\n",
      "16:32:04 - src.models.train_model - INFO - Test RMSE: 32399.68\n",
      "16:32:04 - src.models.train_model - INFO - Test R²: 0.8459\n",
      "16:32:04 - src.models.train_model - INFO - Model saved to models/model_20250731_1632.pkl\n",
      "16:32:04 - src.models.train_model - INFO - Training R²: 0.8181\n",
      "16:32:04 - src.models.train_model - INFO - Test RMSE: 32399.68\n",
      "16:32:04 - src.models.train_model - INFO - Test R²: 0.8459\n",
      "16:32:04 - src.models.train_model - INFO - Model saved to models/model_20250731_1632.pkl\n",
      "16:32:04 - src.models.train_model - INFO - Scaler saved to models/scaler_20250731_1632.pkl\n",
      "RMSE: 32399.68\n",
      "R² Score: 0.8459\n",
      "16:32:04 - src.models.train_model - INFO - Scaler saved to models/scaler_20250731_1632.pkl\n",
      "RMSE: 32399.68\n",
      "R² Score: 0.8459\n"
     ]
    }
   ],
   "source": [
    "from sklearn.model_selection import train_test_split\n",
    "X_train, X_test, y_train, y_test = train_test_split(X, y, test_size=0.2, random_state=42)\n",
    "train_and_save_model(X_train, y_train, X_test, y_test)\n",
    "y_pred = evaluate_model(X_test, y_test)"
   ]
  },
  {
   "cell_type": "code",
   "execution_count": 55,
   "id": "1aaa3342",
   "metadata": {},
   "outputs": [],
   "source": [
    "plot_predictions(y_test, y_pred)\n",
    "plot_residuals(y_test, y_pred)"
   ]
  }
 ],
 "metadata": {
  "kernelspec": {
   "display_name": "base",
   "language": "python",
   "name": "python3"
  },
  "language_info": {
   "codemirror_mode": {
    "name": "ipython",
    "version": 3
   },
   "file_extension": ".py",
   "mimetype": "text/x-python",
   "name": "python",
   "nbconvert_exporter": "python",
   "pygments_lexer": "ipython3",
   "version": "3.12.3"
  }
 },
 "nbformat": 4,
 "nbformat_minor": 5
}
